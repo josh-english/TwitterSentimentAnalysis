{
 "cells": [
  {
   "cell_type": "markdown",
   "metadata": {},
   "source": [
    "# Import Cleaned Data"
   ]
  },
  {
   "cell_type": "code",
   "execution_count": 1,
   "metadata": {},
   "outputs": [],
   "source": [
    "import pandas as pd\n",
    "import numpy as np\n",
    "\n",
    "from sklearn.model_selection import train_test_split\n",
    "\n",
    "data = pd.read_csv('./data/cleaned.csv', encoding='utf-8')\n",
    "\n",
    "from nltk.tokenize import TweetTokenizer # a tweet tokenizer from nltk.\n",
    "tokenizer = TweetTokenizer()\n",
    "\n",
    "def tokenize(tweet):\n",
    "    try:\n",
    "        tokens = tokenizer.tokenize(tweet)\n",
    "        return tokens\n",
    "    except:\n",
    "        return 'NC'\n",
    "\n",
    "def scaling(target):\n",
    "    if(target == 4):\n",
    "        return 1\n",
    "    else:\n",
    "        return 0\n",
    "\n",
    "from tqdm import tqdm\n",
    "tqdm.pandas(desc=\"progress-bar\")"
   ]
  },
  {
   "cell_type": "markdown",
   "metadata": {},
   "source": [
    "# Post Process"
   ]
  },
  {
   "cell_type": "code",
   "execution_count": 2,
   "metadata": {},
   "outputs": [
    {
     "name": "stderr",
     "output_type": "stream",
     "text": [
      "progress-bar: 100%|██████████| 1600000/1600000 [00:01<00:00, 1079227.58it/s]\n",
      "progress-bar: 100%|██████████| 1600000/1600000 [00:28<00:00, 55321.61it/s]\n"
     ]
    },
    {
     "name": "stdout",
     "output_type": "stream",
     "text": [
      "   target                                         clean_text\n",
      "0       0  [http, twitpic, awww, that, bummer, shoulda, d...\n",
      "1       0  [upset, that, updat, facebook, text, might, re...\n",
      "2       0  [dive, mani, time, ball, manag, save, rest, bo...\n",
      "3       0             [whole, bodi, feel, itchi, like, fire]\n",
      "4       0                 [behav, here, becaus, over, there]\n",
      "         target                                         clean_text\n",
      "1586995       1       [just, woke, have, school, best, feel, ever]\n",
      "1586996       1  [thewdb, veri, cool, hear, walt, interview, ht...\n",
      "1586997       1                [readi, your, mojo, makeov, detail]\n",
      "1586998       1  [happi, birthday, alll, time, tupac, amaru, sh...\n",
      "1586999       1                           [happi, #charitytuesday]\n"
     ]
    }
   ],
   "source": [
    "# post process\n",
    "data['target'] = data['target'].progress_map(scaling)\n",
    "data['clean_text'] = data['clean_text'].progress_map(tokenize)\n",
    "data = data[data.clean_text != 'NC']\n",
    "data.reset_index(inplace=True)\n",
    "data.drop('index', inplace=True, axis=1)\n",
    "print(data.head())\n",
    "print(data.tail())"
   ]
  },
  {
   "cell_type": "markdown",
   "metadata": {},
   "source": [
    "# Split into Train and Test Data"
   ]
  },
  {
   "cell_type": "code",
   "execution_count": 3,
   "metadata": {},
   "outputs": [],
   "source": [
    "x_train, x_test, y_train, y_test = train_test_split(np.array(data['clean_text']), np.array(data['target']),\n",
    "                                                    test_size=0.2)\n",
    "x_test_pure = x_test"
   ]
  },
  {
   "cell_type": "markdown",
   "metadata": {},
   "source": [
    "# Word2Vec"
   ]
  },
  {
   "cell_type": "code",
   "execution_count": 4,
   "metadata": {},
   "outputs": [
    {
     "name": "stderr",
     "output_type": "stream",
     "text": [
      "C:\\Users\\josh\\Anaconda3\\lib\\site-packages\\gensim\\utils.py:1197: UserWarning: detected Windows; aliasing chunkize to chunkize_serial\n",
      "  warnings.warn(\"detected Windows; aliasing chunkize to chunkize_serial\")\n",
      "0it [00:00, ?it/s]C:\\Users\\josh\\Anaconda3\\lib\\site-packages\\ipykernel_launcher.py:9: DeprecationWarning: Call to deprecated `LabeledSentence` (Class will be removed in 4.0.0, use TaggedDocument instead).\n",
      "  if __name__ == '__main__':\n",
      "1269600it [00:05, 240121.95it/s]\n"
     ]
    },
    {
     "name": "stdout",
     "output_type": "stream",
     "text": [
      "[LabeledSentence(words=['woke', 'middl', 'night', 'need', 'back', 'sleep'], tags=['TRAIN_0']), LabeledSentence(words=['afaik', 'pinot', 'also', 'also', 'bakeri', 'outlet', 'basement'], tags=['TRAIN_1'])]\n"
     ]
    },
    {
     "name": "stderr",
     "output_type": "stream",
     "text": [
      "317400it [00:01, 311275.65it/s]\n"
     ]
    },
    {
     "name": "stdout",
     "output_type": "stream",
     "text": [
      "Building word2vec matrix\n"
     ]
    },
    {
     "name": "stderr",
     "output_type": "stream",
     "text": [
      "100%|██████████| 1269600/1269600 [00:00<00:00, 2351791.40it/s]\n",
      "100%|██████████| 1269600/1269600 [00:00<00:00, 2382823.35it/s]\n"
     ]
    },
    {
     "data": {
      "text/plain": [
       "(36990326, 43742610)"
      ]
     },
     "execution_count": 4,
     "metadata": {},
     "output_type": "execute_result"
    }
   ],
   "source": [
    "import gensim\n",
    "from gensim.models.word2vec import Word2Vec\n",
    "LabeledSentence = gensim.models.doc2vec.LabeledSentence\n",
    "\n",
    "def labelizeTweets(tweets, label_type):\n",
    "    labelized = []\n",
    "    for i,v in tqdm(enumerate(tweets)):\n",
    "        label = '%s_%s'%(label_type,i)\n",
    "        labelized.append(LabeledSentence(v, [label]))\n",
    "    return labelized\n",
    "\n",
    "x_train = labelizeTweets(x_train, 'TRAIN')\n",
    "print(x_train[0:2])\n",
    "x_test = labelizeTweets(x_test, 'TEST')\n",
    "\n",
    "print(\"Building word2vec matrix\")\n",
    "n_dim = 300\n",
    "tweet_w2v = Word2Vec(size=n_dim, min_count=10)\n",
    "tweet_w2v.build_vocab([x.words for x in tqdm(x_train)])\n",
    "tweet_w2v.train([x.words for x in tqdm(x_train)], total_examples=tweet_w2v.corpus_count, epochs=tweet_w2v.epochs)"
   ]
  },
  {
   "cell_type": "code",
   "execution_count": 5,
   "metadata": {},
   "outputs": [
    {
     "name": "stderr",
     "output_type": "stream",
     "text": [
      "C:\\Users\\josh\\Anaconda3\\lib\\site-packages\\ipykernel_launcher.py:1: DeprecationWarning: Call to deprecated `most_similar` (Method will be removed in 4.0.0, use self.wv.most_similar() instead).\n",
      "  \"\"\"Entry point for launching an IPython kernel.\n"
     ]
    },
    {
     "data": {
      "text/plain": [
       "[('great', 0.6410046815872192),\n",
       " ('rough', 0.5300723314285278),\n",
       " ('goood', 0.5216195583343506),\n",
       " ('gooood', 0.48010364174842834),\n",
       " ('decent', 0.4767211675643921),\n",
       " ('fantast', 0.46157869696617126),\n",
       " ('fabul', 0.4548240005970001),\n",
       " ('excel', 0.4544249176979065),\n",
       " ('goooood', 0.4536723494529724),\n",
       " ('tough', 0.4375481605529785)]"
      ]
     },
     "execution_count": 5,
     "metadata": {},
     "output_type": "execute_result"
    }
   ],
   "source": [
    "tweet_w2v.most_similar(\"good\")"
   ]
  },
  {
   "cell_type": "code",
   "execution_count": 6,
   "metadata": {},
   "outputs": [
    {
     "name": "stderr",
     "output_type": "stream",
     "text": [
      "C:\\Users\\josh\\Anaconda3\\lib\\site-packages\\ipykernel_launcher.py:1: DeprecationWarning: Call to deprecated `most_similar` (Method will be removed in 4.0.0, use self.wv.most_similar() instead).\n",
      "  \"\"\"Entry point for launching an IPython kernel.\n"
     ]
    },
    {
     "data": {
      "text/plain": [
       "[('bebo', 0.7130445241928101),\n",
       " ('friendster', 0.711182177066803),\n",
       " ('profil', 0.6838052272796631),\n",
       " ('myspac', 0.6793900728225708),\n",
       " ('linkedin', 0.6662228107452393),\n",
       " ('statu', 0.6409034729003906),\n",
       " ('yahoo', 0.6214652061462402),\n",
       " ('twitter', 0.6019246578216553),\n",
       " ('hotmail', 0.6005986928939819),\n",
       " ('homepag', 0.600570797920227)]"
      ]
     },
     "execution_count": 6,
     "metadata": {},
     "output_type": "execute_result"
    }
   ],
   "source": [
    "tweet_w2v.most_similar(\"facebook\")"
   ]
  },
  {
   "cell_type": "markdown",
   "metadata": {},
   "source": [
    "# TF-IDF"
   ]
  },
  {
   "cell_type": "code",
   "execution_count": 7,
   "metadata": {},
   "outputs": [
    {
     "name": "stdout",
     "output_type": "stream",
     "text": [
      "Building tf-idf matrix\n",
      "Vocab size:  20289\n"
     ]
    }
   ],
   "source": [
    "from sklearn.feature_extraction.text import TfidfVectorizer\n",
    "print(\"Building tf-idf matrix\")\n",
    "vectorizer = TfidfVectorizer(analyzer=lambda x: x, min_df=10)\n",
    "matrix = vectorizer.fit_transform([x.words for x in x_train])\n",
    "tfidf = dict(zip(vectorizer.get_feature_names(), vectorizer.idf_))\n",
    "print(\"Vocab size: \", len(tfidf))"
   ]
  },
  {
   "cell_type": "markdown",
   "metadata": {},
   "source": [
    "# Scale the Data"
   ]
  },
  {
   "cell_type": "code",
   "execution_count": 8,
   "metadata": {},
   "outputs": [
    {
     "name": "stdout",
     "output_type": "stream",
     "text": [
      "Scaling train vector\n"
     ]
    },
    {
     "name": "stderr",
     "output_type": "stream",
     "text": [
      "0it [00:00, ?it/s]C:\\Users\\josh\\Anaconda3\\lib\\site-packages\\ipykernel_launcher.py:6: DeprecationWarning: Call to deprecated `__getitem__` (Method will be removed in 4.0.0, use self.wv.__getitem__() instead).\n",
      "  \n",
      "1269600it [01:23, 15222.30it/s]\n"
     ]
    },
    {
     "name": "stdout",
     "output_type": "stream",
     "text": [
      "Scaling test vector\n"
     ]
    },
    {
     "name": "stderr",
     "output_type": "stream",
     "text": [
      "0it [00:00, ?it/s]C:\\Users\\josh\\Anaconda3\\lib\\site-packages\\ipykernel_launcher.py:6: DeprecationWarning: Call to deprecated `__getitem__` (Method will be removed in 4.0.0, use self.wv.__getitem__() instead).\n",
      "  \n",
      "317400it [00:23, 13429.55it/s]\n"
     ]
    }
   ],
   "source": [
    "def buildWordVector(tokens, size):\n",
    "    vec = np.zeros(size).reshape((1, size))\n",
    "    count = 0.\n",
    "    for word in tokens:\n",
    "        try:\n",
    "            vec += tweet_w2v[word].reshape((1, size)) * tfidf[word]\n",
    "            count += 1.\n",
    "        except KeyError: # handling the case where the token is not in the corpus. useful for testing.\n",
    "            continue\n",
    "    if count != 0:\n",
    "        vec /= count\n",
    "    return vec\n",
    "\n",
    "\n",
    "from sklearn.preprocessing import scale\n",
    "print(\"Scaling train vector\")\n",
    "train_vecs_w2v = np.concatenate([buildWordVector(z, n_dim) for z in tqdm(map(lambda x: x.words, x_train))])\n",
    "train_vecs_w2v = scale(train_vecs_w2v)\n",
    "\n",
    "print(\"Scaling test vector\")\n",
    "test_vecs_w2v = np.concatenate([buildWordVector(z, n_dim) for z in tqdm(map(lambda x: x.words, x_test))])\n",
    "test_vecs_w2v = scale(test_vecs_w2v)"
   ]
  },
  {
   "cell_type": "markdown",
   "metadata": {},
   "source": [
    "# Build Keras Based Model"
   ]
  },
  {
   "cell_type": "code",
   "execution_count": 9,
   "metadata": {},
   "outputs": [
    {
     "name": "stderr",
     "output_type": "stream",
     "text": [
      "Using TensorFlow backend.\n"
     ]
    },
    {
     "name": "stdout",
     "output_type": "stream",
     "text": [
      "Making model\n",
      "WARNING:tensorflow:From C:\\Users\\josh\\Anaconda3\\lib\\site-packages\\tensorflow\\python\\framework\\op_def_library.py:263: colocate_with (from tensorflow.python.framework.ops) is deprecated and will be removed in a future version.\n",
      "Instructions for updating:\n",
      "Colocations handled automatically by placer.\n"
     ]
    }
   ],
   "source": [
    "# build keras based model\n",
    "from keras.models import Sequential\n",
    "from keras.layers import Dense\n",
    "\n",
    "print(\"Making model\")\n",
    "model = Sequential()\n",
    "model.add(Dense(32, activation='relu', input_dim=300))\n",
    "model.add(Dense(1, activation='sigmoid'))\n",
    "model.compile(optimizer='rmsprop',\n",
    "              loss='binary_crossentropy',\n",
    "              metrics=['accuracy'])"
   ]
  },
  {
   "cell_type": "markdown",
   "metadata": {},
   "source": [
    "# Train Model"
   ]
  },
  {
   "cell_type": "code",
   "execution_count": 10,
   "metadata": {},
   "outputs": [
    {
     "name": "stdout",
     "output_type": "stream",
     "text": [
      "Training model\n"
     ]
    },
    {
     "name": "stderr",
     "output_type": "stream",
     "text": [
      "C:\\Users\\josh\\Anaconda3\\lib\\site-packages\\ipykernel_launcher.py:2: UserWarning: The `nb_epoch` argument in `fit` has been renamed `epochs`.\n",
      "  \n"
     ]
    },
    {
     "name": "stdout",
     "output_type": "stream",
     "text": [
      "WARNING:tensorflow:From C:\\Users\\josh\\Anaconda3\\lib\\site-packages\\tensorflow\\python\\ops\\math_ops.py:3066: to_int32 (from tensorflow.python.ops.math_ops) is deprecated and will be removed in a future version.\n",
      "Instructions for updating:\n",
      "Use tf.cast instead.\n",
      "Train on 1142640 samples, validate on 126960 samples\n",
      "Epoch 1/8\n",
      " - 9s - loss: 0.5176 - acc: 0.7458 - val_loss: 0.5052 - val_acc: 0.7546\n",
      "Epoch 2/8\n",
      " - 9s - loss: 0.5005 - acc: 0.7567 - val_loss: 0.4992 - val_acc: 0.7577\n",
      "Epoch 3/8\n",
      " - 9s - loss: 0.4966 - acc: 0.7588 - val_loss: 0.4976 - val_acc: 0.7592\n",
      "Epoch 4/8\n",
      " - 9s - loss: 0.4941 - acc: 0.7604 - val_loss: 0.4976 - val_acc: 0.7589\n",
      "Epoch 5/8\n",
      " - 9s - loss: 0.4926 - acc: 0.7614 - val_loss: 0.4949 - val_acc: 0.7608\n",
      "Epoch 6/8\n",
      " - 10s - loss: 0.4913 - acc: 0.7621 - val_loss: 0.4938 - val_acc: 0.7617\n",
      "Epoch 7/8\n",
      " - 9s - loss: 0.4903 - acc: 0.7627 - val_loss: 0.4936 - val_acc: 0.7613\n",
      "Epoch 8/8\n",
      " - 9s - loss: 0.4894 - acc: 0.7633 - val_loss: 0.4944 - val_acc: 0.7604\n"
     ]
    }
   ],
   "source": [
    "print(\"Training model\")\n",
    "history = model.fit(train_vecs_w2v, y_train, nb_epoch=8, batch_size=1024, validation_split=0.1, verbose=2)"
   ]
  },
  {
   "cell_type": "code",
   "execution_count": 11,
   "metadata": {},
   "outputs": [
    {
     "data": {
      "image/png": "[encoded data removed]",
      "text/plain": [
       "<Figure size 432x288 with 1 Axes>"
      ]
     },
     "metadata": {
      "needs_background": "light"
     },
     "output_type": "display_data"
    },
    {
     "data": {
      "image/png": "[encoded data removed]",
      "text/plain": [
       "<Figure size 432x288 with 1 Axes>"
      ]
     },
     "metadata": {
      "needs_background": "light"
     },
     "output_type": "display_data"
    }
   ],
   "source": [
    "import matplotlib.pyplot as plt\n",
    "%matplotlib inline\n",
    "\n",
    "acc = history.history['acc']\n",
    "val_acc = history.history['val_acc']\n",
    "loss = history.history['loss']\n",
    "val_loss = history.history['val_loss']\n",
    " \n",
    "epochs = range(len(acc))\n",
    " \n",
    "plt.plot(epochs, acc, 'b', label='Training acc')\n",
    "plt.plot(epochs, val_acc, 'r', label='Validation acc')\n",
    "plt.title('Training and validation accuracy')\n",
    "plt.legend()\n",
    " \n",
    "plt.figure()\n",
    " \n",
    "plt.plot(epochs, loss, 'b', label='Training loss')\n",
    "plt.plot(epochs, val_loss, 'r', label='Validation loss')\n",
    "plt.title('Training and validation loss')\n",
    "plt.legend()\n",
    " \n",
    "plt.show()"
   ]
  },
  {
   "cell_type": "markdown",
   "metadata": {},
   "source": [
    "# Evaluate and Analyze Model Performance"
   ]
  },
  {
   "cell_type": "code",
   "execution_count": 12,
   "metadata": {},
   "outputs": [
    {
     "name": "stdout",
     "output_type": "stream",
     "text": [
      "Evaluating model\n",
      "0.7611594202958644\n"
     ]
    }
   ],
   "source": [
    "print(\"Evaluating model\")\n",
    "score = model.evaluate(test_vecs_w2v, y_test, batch_size=128, verbose=2)\n",
    "print(score[1])"
   ]
  },
  {
   "cell_type": "code",
   "execution_count": 18,
   "metadata": {},
   "outputs": [],
   "source": [
    "def decode_sentiment(score, include_neutral=True):\n",
    "    if include_neutral:        \n",
    "        label = \"NEUTRAL\"\n",
    "        if score < 0.45:\n",
    "            label = \"POSITIVE\"\n",
    "        elif score > 0.55:\n",
    "            label = \"NEGATIVE\"\n",
    "\n",
    "        return label\n",
    "    else:\n",
    "        return \"NEGATIVE\" if score < 0.5 else \"POSITIVE\""
   ]
  },
  {
   "cell_type": "code",
   "execution_count": 14,
   "metadata": {},
   "outputs": [],
   "source": [
    "from keras.preprocessing.sequence import pad_sequences\n",
    "import time\n",
    "\n",
    "def model_predict(tweet):\n",
    "    start_at = time.time()\n",
    "    # Tokenize text\n",
    "    tokens = tokenizer.tokenize(tweet)\n",
    "    x_test = pad_sequences(buildWordVector(tokens, 300))\n",
    "    # Predict\n",
    "    score = model.predict([x_test])[0]\n",
    "    # Decode sentiment\n",
    "    label = decode_sentiment(score, include_neutral=True)\n",
    "\n",
    "    return {\"label\": label, \"score\": float(score),\n",
    "       \"elapsed_time\": time.time()-start_at}"
   ]
  },
  {
   "cell_type": "code",
   "execution_count": 19,
   "metadata": {},
   "outputs": [
    {
     "name": "stdout",
     "output_type": "stream",
     "text": [
      "Evaluating TextBlob\n",
      "0.41823251417769375\n"
     ]
    }
   ],
   "source": [
    "from textblob import TextBlob\n",
    "\n",
    "def get_tweet_sentiment(tweet): \n",
    "        ''' \n",
    "        Utility function to classify sentiment of passed tweet \n",
    "        using textblob's sentiment method \n",
    "        '''\n",
    "        # create TextBlob object of passed tweet text \n",
    "        analysis = TextBlob(tweet) \n",
    "        # set sentiment \n",
    "        if analysis.sentiment.polarity > 0: \n",
    "            return 0\n",
    "        else: \n",
    "            return 1\n",
    "\n",
    "print(\"Evaluating TextBlob\")\n",
    "right = 0\n",
    "for i, tweet in enumerate(x_test_pure):\n",
    "    if(get_tweet_sentiment(\" \".join(tweet)) == y_test[i]):\n",
    "        right += 1\n",
    "print(right/len(x_test_pure))"
   ]
  },
  {
   "cell_type": "code",
   "execution_count": 16,
   "metadata": {},
   "outputs": [],
   "source": [
    "def textblob_predict(tweet):\n",
    "    start_at = time.time()\n",
    "    analysis = TextBlob(tweet)\n",
    "    label = \"NEUTRAL\"\n",
    "    if analysis.sentiment.polarity > 0: \n",
    "        label = \"POSITIVE\"\n",
    "    elif analysis.sentiment.polarity == 0: \n",
    "        label = \"NEUTRAL\"\n",
    "    else: \n",
    "        label = \"NEGATIVE\"\n",
    "    return {\"label\": label, \"score\": float(analysis.sentiment.polarity), \"elapsed_time\": time.time()-start_at}"
   ]
  },
  {
   "cell_type": "code",
   "execution_count": 20,
   "metadata": {},
   "outputs": [
    {
     "name": "stderr",
     "output_type": "stream",
     "text": [
      "C:\\Users\\josh\\Anaconda3\\lib\\site-packages\\ipykernel_launcher.py:6: DeprecationWarning: Call to deprecated `__getitem__` (Method will be removed in 4.0.0, use self.wv.__getitem__() instead).\n",
      "  \n"
     ]
    },
    {
     "name": "stdout",
     "output_type": "stream",
     "text": [
      "{'label': 'POSITIVE', 'score': 0.001275300164707005, 'elapsed_time': 0.0019989013671875}\n",
      "{'label': 'NEGATIVE', 'score': -0.8, 'elapsed_time': 0.0}\n"
     ]
    }
   ],
   "source": [
    "new_tweet = \"I hate tacos\"\n",
    "print(model_predict(new_tweet))\n",
    "print(textblob_predict(new_tweet))"
   ]
  }
 ],
 "metadata": {
  "kernelspec": {
   "display_name": "Python 3",
   "language": "python",
   "name": "python3"
  },
  "language_info": {
   "codemirror_mode": {
    "name": "ipython",
    "version": 3
   },
   "file_extension": ".py",
   "mimetype": "text/x-python",
   "name": "python",
   "nbconvert_exporter": "python",
   "pygments_lexer": "ipython3",
   "version": "3.7.1"
  }
 },
 "nbformat": 4,
 "nbformat_minor": 2
}
