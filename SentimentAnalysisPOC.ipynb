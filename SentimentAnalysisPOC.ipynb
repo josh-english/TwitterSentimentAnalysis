{
  "nbformat": 4,
  "nbformat_minor": 0,
  "metadata": {
    "colab": {
      "name": "SentimentAnalysisPOC.ipynb",
      "version": "0.3.2",
      "provenance": [],
      "collapsed_sections": [],
      "include_colab_link": true
    },
    "kernelspec": {
      "name": "python3",
      "display_name": "Python 3"
    },
    "accelerator": "GPU"
  },
  "cells": [
    {
      "cell_type": "markdown",
      "metadata": {
        "id": "view-in-github",
        "colab_type": "text"
      },
      "source": [
        "<a href=\"https://colab.research.google.com/github/josh-english/TwitterSentimentAnalysis/blob/master/SentimentAnalysisPOC.ipynb\" target=\"_parent\"><img src=\"https://colab.research.google.com/assets/colab-badge.svg\" alt=\"Open In Colab\"/></a>"
      ]
    },
    {
      "metadata": {
        "id": "24N1RbdycV9J",
        "colab_type": "text"
      },
      "cell_type": "markdown",
      "source": [
        "https://www.geeksforgeeks.org/twitter-sentiment-analysis-using-python/"
      ]
    },
    {
      "metadata": {
        "id": "jji5xlrqRgEe",
        "colab_type": "code",
        "colab": {}
      },
      "cell_type": "code",
      "source": [
        "import re \n",
        "import tweepy \n",
        "from tweepy import OAuthHandler \n",
        "from textblob import TextBlob "
      ],
      "execution_count": 0,
      "outputs": []
    },
    {
      "metadata": {
        "id": "MVgqdNgKcbf3",
        "colab_type": "code",
        "colab": {}
      },
      "cell_type": "code",
      "source": [
        "class TwitterClient(object): \n",
        "\t''' \n",
        "\tGeneric Twitter Class for sentiment analysis. \n",
        "\t'''\n",
        "\tdef __init__(self): \n",
        "\t\t''' \n",
        "\t\tClass constructor or initialization method. \n",
        "\t\t'''\n",
        "\t\t# keys and tokens from the Twitter Dev Console \n",
        "\t\tconsumer_key = 'A6xpOxQJXPh4KuN0bBuJ4KYOf'\n",
        "\t\tconsumer_secret = 'vQymfJkJy5YtGwsfFFMdPfjl2epVcfztFu8jGLSj4V0bzQoeMV'\n",
        "\t\taccess_token = '930581527968219136-guZY4MWui7YkkUaC7O3S6LB1dfDoFji'\n",
        "\t\taccess_token_secret = '7su6tFi4Nf66hWmzFgxlmNXgyucp4LADIUcs0oxXs9wlV'\n",
        "\n",
        "\t\t# attempt authentication \n",
        "\t\ttry: \n",
        "\t\t\t# create OAuthHandler object \n",
        "\t\t\tself.auth = OAuthHandler(consumer_key, consumer_secret) \n",
        "\t\t\t# set access token and secret \n",
        "\t\t\tself.auth.set_access_token(access_token, access_token_secret) \n",
        "\t\t\t# create tweepy API object to fetch tweets \n",
        "\t\t\tself.api = tweepy.API(self.auth) \n",
        "\t\texcept: \n",
        "\t\t\tprint(\"Error: Authentication Failed\") \n",
        "\n",
        "\tdef clean_tweet(self, tweet): \n",
        "\t\t''' \n",
        "\t\tUtility function to clean tweet text by removing links, special characters \n",
        "\t\tusing simple regex statements. \n",
        "\t\t'''\n",
        "\t\treturn ' '.join(re.sub(\"(@[A-Za-z0-9]+)|([^0-9A-Za-z \\t]) \\\n",
        "\t\t\t\t\t\t\t\t\t|(\\w+:\\/\\/\\S+)\", \" \", tweet).split()) \n",
        "\n",
        "\tdef get_tweet_sentiment(self, tweet): \n",
        "\t\t''' \n",
        "\t\tUtility function to classify sentiment of passed tweet \n",
        "\t\tusing textblob's sentiment method \n",
        "\t\t'''\n",
        "\t\t# create TextBlob object of passed tweet text \n",
        "\t\tanalysis = TextBlob(self.clean_tweet(tweet)) \n",
        "\t\t# set sentiment \n",
        "\t\tif analysis.sentiment.polarity > 0: \n",
        "\t\t\treturn 'positive'\n",
        "\t\telif analysis.sentiment.polarity == 0: \n",
        "\t\t\treturn 'neutral'\n",
        "\t\telse: \n",
        "\t\t\treturn 'negative'\n",
        "\n",
        "\tdef get_tweets(self, query, count = 10): \n",
        "\t\t''' \n",
        "\t\tMain function to fetch tweets and parse them. \n",
        "\t\t'''\n",
        "\t\t# empty list to store parsed tweets \n",
        "\t\ttweets = [] \n",
        "\n",
        "\t\ttry: \n",
        "\t\t\t# call twitter api to fetch tweets \n",
        "\t\t\tfetched_tweets = self.api.search(q = query, count = count) \n",
        "\n",
        "\t\t\t# parsing tweets one by one \n",
        "\t\t\tfor tweet in fetched_tweets: \n",
        "\t\t\t\t# empty dictionary to store required params of a tweet \n",
        "\t\t\t\tparsed_tweet = {} \n",
        "\n",
        "\t\t\t\t# saving text of tweet \n",
        "\t\t\t\tparsed_tweet['text'] = tweet.text \n",
        "\t\t\t\t# saving sentiment of tweet \n",
        "\t\t\t\tparsed_tweet['sentiment'] = self.get_tweet_sentiment(tweet.text) \n",
        "\n",
        "\t\t\t\t# appending parsed tweet to tweets list \n",
        "\t\t\t\tif tweet.retweet_count > 0: \n",
        "\t\t\t\t\t# if tweet has retweets, ensure that it is appended only once \n",
        "\t\t\t\t\tif parsed_tweet not in tweets: \n",
        "\t\t\t\t\t\ttweets.append(parsed_tweet) \n",
        "\t\t\t\telse: \n",
        "\t\t\t\t\ttweets.append(parsed_tweet) \n",
        "\n",
        "\t\t\t# return parsed tweets \n",
        "\t\t\treturn tweets \n",
        "\n",
        "\t\texcept tweepy.TweepError as e: \n",
        "\t\t\t# print error (if any) \n",
        "\t\t\tprint(\"Error : \" + str(e)) \n"
      ],
      "execution_count": 0,
      "outputs": []
    },
    {
      "metadata": {
        "id": "3HrXPFSFc6ZK",
        "colab_type": "code",
        "outputId": "4f2cdd1e-0d1d-46ca-dfd6-58fe40d129fc",
        "colab": {
          "base_uri": "https://localhost:8080/",
          "height": 703
        }
      },
      "cell_type": "code",
      "source": [
        "def main(): \n",
        "\t# creating object of TwitterClient Class \n",
        "\tapi = TwitterClient() \n",
        "\t# calling function to get tweets \n",
        "\ttweets = api.get_tweets(query = 'Donald Trump', count = 200) \n",
        "\n",
        "\t# picking positive tweets from tweets \n",
        "\tptweets = [tweet for tweet in tweets if tweet['sentiment'] == 'positive'] \n",
        "\t# percentage of positive tweets \n",
        "\tprint(\"Positive tweets percentage: {} %\".format(100*len(ptweets)/len(tweets))) \n",
        "\t# picking negative tweets from tweets \n",
        "\tntweets = [tweet for tweet in tweets if tweet['sentiment'] == 'negative'] \n",
        "\t# percentage of negative tweets \n",
        "\tprint(\"Negative tweets percentage: {} %\".format(100*len(ntweets)/len(tweets))) \n",
        "\t# percentage of neutral tweets \n",
        "\tprint(\"Neutral tweets percentage: {} % \"\\\n",
        "        .format(100*(len(tweets) - len(ntweets) - len(ptweets))/len(tweets))) \n",
        "\n",
        "\t# printing first 5 positive tweets \n",
        "\tprint(\"\\n\\nPositive tweets:\") \n",
        "\tfor tweet in ptweets[:10]: \n",
        "\t\tprint(tweet['text']) \n",
        "\n",
        "\t# printing first 5 negative tweets \n",
        "\tprint(\"\\n\\nNegative tweets:\") \n",
        "\tfor tweet in ntweets[:10]: \n",
        "\t\tprint(tweet['text']) \n",
        "\n",
        "if __name__ == \"__main__\": \n",
        "\t# calling main function \n",
        "\tmain() "
      ],
      "execution_count": 5,
      "outputs": [
        {
          "output_type": "stream",
          "text": [
            "Positive tweets percentage: 31.25 %\n",
            "Negative tweets percentage: 17.1875 %\n",
            "Neutral tweets percentage: 51.5625 % \n",
            "\n",
            "\n",
            "Positive tweets:\n",
            "RT @ASK_des: #GMB Guess who’s on first Remoaner bore on TV today to talk bollocks slag off Brexit &amp; Donald Trump. 🙄🙄🙄🙄🙄🙄🙄🙄🙄🙄🙄🙄🙄🙄🙄🙄🙄🙄🙄🙄🙄🙄🙄🙄🙄…\n",
            "RT @Speedygee_22: Nipsey Hussle didn’t just stand up for his people but he showed love to the Latinos and made a big statement when YG and…\n",
            "White hipsters everywhere, Donald Trumo is now really crampin ya most essential lifestyle enhancement product. This… https://t.co/ehpLjOcgwV\n",
            "RT @LeftSentThis: Nipsey Hussle was the co-creator of America’s new National Anthem, “Fu*k Donald Trump”.\n",
            "\n",
            "He was anti-big pharma, pro-inde…\n",
            "RT @notcapnamerica: Many of us have been poor.  Lost jobs.  Struggling.\n",
            "\n",
            "It didn’t make us racist, sexist, homophobic or otherwise bigoted.…\n",
            "Donald Trump is glad the U.S. is not powered by wind \"because it only blows sometimes\" https://t.co/RViCAGhgFq\n",
            "RT @CarterElliottIV: @realDonaldTrump Coming from a Dairy Farmer in rural Virginia, Donald Trump has yet to do anything to help our great f…\n",
            "RT @MaryCaitlinByrd: Lindsey Graham, the senior Republican U.S. Senator for South Carolina, is named as a primary target for the Democratic…\n",
            "Trump signed the largest U.S. wilderness protection bill in a decade, designates 375,000 new acres of protected land https://t.co/v1pGXxuvM7\n",
            "RT @AdamParkhomenko: I love seeing Donald Trump humiliated https://t.co/2lQ3FVkKlJ\n",
            "\n",
            "\n",
            "Negative tweets:\n",
            "@Travellincanuck @AndrewScheer You have the wrong graphic! It should be showing the Face Of Donald Corleone Sheer or Andrew Corleone Trump !\n",
            "@tedcruz We all know you are a fool. I think Scott Pruitt &amp; Donald Trump Led the Destroy the Earth Campaign. I real… https://t.co/xvOenn5phl\n",
            "RT @HuffPost: Pope Francis denounced immigration barriers when he was asked about President Donald Trump’s threat to shut down the U.S.-Mex…\n",
            "April 2017...a year earlier...Trump launches military strike against Syria @CNNPolitics https://t.co/WkqrKG4pyW\n",
            ".#TrumpCrimeFamily is in trouble again #MondayMorning vote people vote\n",
            "\n",
            "https://t.co/lzyG4HVdes\n",
            "RT @TheRynheart: “If you know President Trump, there is no way he sat down with the Russians and came up with a plan and followed it,\" Grah…\n",
            "RT @RenovaMidia: A emissora BBC foi condenada a pagar indenização por publicar fake news alegando que o presidente da #Ucrânia, Petro Poros…\n",
            "RT @realTuckFrumper: Courtesy of Democratic Strategist, Adam Parkhomenko:\n",
            "\n",
            "Devin Nunes filed a lawsuit against his cow, @DevinCow, and now…\n",
            "RT @K_JeanPierre: Donald Trump loves to appoint corrupt individuals. Shameless. https://t.co/IXbffGZqPF\n",
            "@HillReporter Well,if Kellyanne agreed with her husband against Trump she will not have her job very long Trump dem… https://t.co/DWbvJVtjOR\n"
          ],
          "name": "stdout"
        }
      ]
    }
  ]
}